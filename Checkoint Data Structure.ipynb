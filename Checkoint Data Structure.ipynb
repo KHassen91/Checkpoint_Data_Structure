{
 "cells": [
  {
   "cell_type": "markdown",
   "metadata": {},
   "source": [
    "# Question1:"
   ]
  },
  {
   "cell_type": "code",
   "execution_count": 36,
   "metadata": {},
   "outputs": [
    {
     "name": "stdout",
     "output_type": "stream",
     "text": [
      "36\n"
     ]
    }
   ],
   "source": [
    "list= [2,3,6]\n",
    "res = 1\n",
    "for i in list:\n",
    "    res = res * i\n",
    "print(res)"
   ]
  },
  {
   "cell_type": "markdown",
   "metadata": {},
   "source": [
    "# Question2:"
   ]
  },
  {
   "cell_type": "code",
   "execution_count": 10,
   "metadata": {},
   "outputs": [
    {
     "name": "stdout",
     "output_type": "stream",
     "text": [
      "[(2, 1), (1, 2), (2, 3), (4, 4), (2, 5)]\n"
     ]
    }
   ],
   "source": [
    "list = [(2, 5), (1, 2), (4, 4), (2, 3), (2, 1)]\n",
    "list2 = []\n",
    "list3 = []\n",
    "for i in list:\n",
    "    list2.append(i[1])\n",
    "    list2=sorted(list2)\n",
    "for j in list2:\n",
    "    for e in list:\n",
    "        if j==e[1]:\n",
    "            list3.append(e)\n",
    "print(list3)"
   ]
  },
  {
   "cell_type": "markdown",
   "metadata": {},
   "source": [
    "# Question 3:"
   ]
  },
  {
   "cell_type": "code",
   "execution_count": 64,
   "metadata": {},
   "outputs": [
    {
     "name": "stdout",
     "output_type": "stream",
     "text": [
      "{'a': 400, 'b': 400, 'c': 700}\n"
     ]
    }
   ],
   "source": [
    "d1={'a':100 , 'b':200 , 'c':300}\n",
    "d2={'a':300 , 'b':200 , 'c':400}\n",
    "d3={}\n",
    "\n",
    "for i ,j in zip (d1,d2):\n",
    "    d3[j] = d1[i] + d2[j]\n",
    "print(d3)\n",
    "        \n",
    "\n"
   ]
  },
  {
   "cell_type": "markdown",
   "metadata": {},
   "source": [
    "# Question 4:"
   ]
  },
  {
   "cell_type": "code",
   "execution_count": 67,
   "metadata": {},
   "outputs": [
    {
     "name": "stdout",
     "output_type": "stream",
     "text": [
      "5\n",
      "{5: 25}\n"
     ]
    }
   ],
   "source": [
    "n=int(input())\n",
    "d={}\n",
    "d[n]=n*n\n",
    "print(d)"
   ]
  },
  {
   "cell_type": "markdown",
   "metadata": {},
   "source": [
    "# Question 5"
   ]
  },
  {
   "cell_type": "code",
   "execution_count": 78,
   "metadata": {},
   "outputs": [
    {
     "name": "stdout",
     "output_type": "stream",
     "text": [
      "[('item3', '24.5'), ('item2', '15.10'), ('item1', '12.20')]\n"
     ]
    }
   ],
   "source": [
    "list1= [('item1', '12.20'), ('item2', '15.10'), ('item3', '24.5')]\n",
    "list2=[]\n",
    "list3=[]\n",
    "for i in list1:\n",
    "    list2.append(float(i[1]))\n",
    "    list2=sorted(list2,reverse=True)\n",
    "for j in list2:\n",
    "    for k in list1:\n",
    "        if j==float(k[1]):\n",
    "            list3.append(k)\n",
    "print(list3)"
   ]
  },
  {
   "cell_type": "code",
   "execution_count": null,
   "metadata": {},
   "outputs": [],
   "source": []
  }
 ],
 "metadata": {
  "kernelspec": {
   "display_name": "Python 3",
   "language": "python",
   "name": "python3"
  },
  "language_info": {
   "codemirror_mode": {
    "name": "ipython",
    "version": 3
   },
   "file_extension": ".py",
   "mimetype": "text/x-python",
   "name": "python",
   "nbconvert_exporter": "python",
   "pygments_lexer": "ipython3",
   "version": "3.8.5"
  }
 },
 "nbformat": 4,
 "nbformat_minor": 4
}
